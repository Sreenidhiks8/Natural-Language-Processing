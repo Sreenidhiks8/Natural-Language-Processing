{
 "cells": [
  {
   "cell_type": "code",
   "execution_count": 1,
   "id": "7818b091",
   "metadata": {},
   "outputs": [],
   "source": [
    "import nltk"
   ]
  },
  {
   "cell_type": "code",
   "execution_count": 2,
   "id": "32cb7b36",
   "metadata": {},
   "outputs": [],
   "source": [
    "from nltk.stem import PorterStemmer"
   ]
  },
  {
   "cell_type": "code",
   "execution_count": 3,
   "id": "a267acb4",
   "metadata": {},
   "outputs": [],
   "source": [
    "word_stemmer = PorterStemmer()"
   ]
  },
  {
   "cell_type": "code",
   "execution_count": 4,
   "id": "f515ce8a",
   "metadata": {},
   "outputs": [
    {
     "data": {
      "text/plain": [
       "'write'"
      ]
     },
     "execution_count": 4,
     "metadata": {},
     "output_type": "execute_result"
    }
   ],
   "source": [
    "word_stemmer.stem('writing')"
   ]
  },
  {
   "cell_type": "code",
   "execution_count": 5,
   "id": "4fbfc1fb",
   "metadata": {},
   "outputs": [
    {
     "data": {
      "text/plain": [
       "['Tutorialspoint.com',\n",
       " 'provides',\n",
       " 'high',\n",
       " 'quality',\n",
       " 'technical',\n",
       " 'tutorials',\n",
       " 'for',\n",
       " 'free',\n",
       " '.']"
      ]
     },
     "execution_count": 5,
     "metadata": {},
     "output_type": "execute_result"
    }
   ],
   "source": [
    "import nltk\n",
    "from nltk.tokenize import word_tokenize\n",
    "word_tokenize('Tutorialspoint.com provides high quality technical tutorials for free.')"
   ]
  },
  {
   "cell_type": "code",
   "execution_count": 6,
   "id": "f2d4b7a1",
   "metadata": {},
   "outputs": [],
   "source": [
    "from nltk.tokenize import TreebankWordTokenizer"
   ]
  },
  {
   "cell_type": "code",
   "execution_count": 7,
   "id": "c6c4eb62",
   "metadata": {},
   "outputs": [],
   "source": [
    "Tokenizer_wrd = TreebankWordTokenizer()"
   ]
  },
  {
   "cell_type": "code",
   "execution_count": 8,
   "id": "b30a39b7",
   "metadata": {},
   "outputs": [
    {
     "data": {
      "text/plain": [
       "['Tutorialspoint.com',\n",
       " 'provides',\n",
       " 'high',\n",
       " 'quality',\n",
       " 'technical',\n",
       " 'tutorials',\n",
       " 'for',\n",
       " 'free',\n",
       " '.']"
      ]
     },
     "execution_count": 8,
     "metadata": {},
     "output_type": "execute_result"
    }
   ],
   "source": [
    "Tokenizer_wrd.tokenize(\n",
    "   'Tutorialspoint.com provides high quality technical tutorials for free.'\n",
    ")"
   ]
  },
  {
   "cell_type": "code",
   "execution_count": 18,
   "id": "6d97bf7b",
   "metadata": {},
   "outputs": [
    {
     "name": "stdout",
     "output_type": "stream",
     "text": [
      "['This', 'process', 'reduces', 'the', 'number', 'of', 'terms', 'kept', 'by', '@', '@', '.', 'com', '$', '$', 'an', 'IR', 'system', 'which', 'will', 'be', 'advantageous', 'both', 'in', 'terms', 'of', 'space', 'and', 'time', 'complexity.', 'This', 'algo', '1234rithm', 'was', 'developed', 'by', 'a', 'British', 'Computer', 'Scientist', 'named', 'Martin', 'F.', 'Porter', '.']\n"
     ]
    }
   ],
   "source": [
    "from nltk.tokenize import TreebankWordTokenizer\n",
    "Tokenizer_wrd = TreebankWordTokenizer()\n",
    "myfile= open(\"token.txt\").read()\n",
    "tokens= Tokenizer_wrd.tokenize(myfile)\n",
    "print (tokens)"
   ]
  },
  {
   "cell_type": "code",
   "execution_count": 21,
   "id": "c771a963",
   "metadata": {},
   "outputs": [
    {
     "data": {
      "text/plain": [
       "['I',\n",
       " 'can',\n",
       " \"'\",\n",
       " 't',\n",
       " 'allow',\n",
       " 'you',\n",
       " 'to',\n",
       " 'go',\n",
       " 'home',\n",
       " 'early',\n",
       " '.',\n",
       " 'Shouldn',\n",
       " \"'\",\n",
       " 't',\n",
       " 'I',\n",
       " '??']"
      ]
     },
     "execution_count": 21,
     "metadata": {},
     "output_type": "execute_result"
    }
   ],
   "source": [
    "from nltk.tokenize import WordPunctTokenizer\n",
    "tokenizer = WordPunctTokenizer()\n",
    "tokenizer.tokenize(\" I can't allow you to go home early. Shouldn't I ??\")"
   ]
  },
  {
   "cell_type": "code",
   "execution_count": null,
   "id": "e68c03ce",
   "metadata": {},
   "outputs": [],
   "source": []
  }
 ],
 "metadata": {
  "kernelspec": {
   "display_name": "Python 3",
   "language": "python",
   "name": "python3"
  },
  "language_info": {
   "codemirror_mode": {
    "name": "ipython",
    "version": 3
   },
   "file_extension": ".py",
   "mimetype": "text/x-python",
   "name": "python",
   "nbconvert_exporter": "python",
   "pygments_lexer": "ipython3",
   "version": "3.8.8"
  }
 },
 "nbformat": 4,
 "nbformat_minor": 5
}
