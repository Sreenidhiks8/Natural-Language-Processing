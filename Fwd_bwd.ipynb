{
  "cells": [
    {
      "cell_type": "code",
      "execution_count": 2,
      "id": "4d04d4f1",
      "metadata": {
        "id": "4d04d4f1"
      },
      "outputs": [],
      "source": [
        "# import the necessary libraries\n",
        "import numpy as np\n",
        "import matplotlib.pyplot as plt\n",
        "import seaborn as sns\n"
      ]
    },
    {
      "cell_type": "code",
      "execution_count": null,
      "id": "04170b00",
      "metadata": {
        "colab": {
          "base_uri": "https://localhost:8080/"
        },
        "id": "04170b00",
        "outputId": "a56cfd2c-7c6a-400e-9a95-12d844f52f11"
      },
      "outputs": [
        {
          "output_type": "stream",
          "name": "stdout",
          "text": [
            "Number of hidden states : 2\n",
            "Number of observations  : 3\n"
          ]
        }
      ],
      "source": [
        "# Define the state space\n",
        "states = [\"CP\", \"IP\"]\n",
        "n_states = len(states)\n",
        "print('Number of hidden states :',n_states)\n",
        "# Define the observation space\n",
        "observations = [\"Cola\", \"ice_t\",\"lem\"]    #cola, iced_tea, lemonade are expected observations\n",
        "n_observations = len(observations)\n",
        "print('Number of observations  :',n_observations)"
      ]
    },
    {
      "cell_type": "code",
      "execution_count": null,
      "id": "51faa396",
      "metadata": {
        "colab": {
          "base_uri": "https://localhost:8080/"
        },
        "id": "51faa396",
        "outputId": "f0160d7b-045b-4b74-a467-7b6bad8b97aa"
      },
      "outputs": [
        {
          "output_type": "stream",
          "name": "stdout",
          "text": [
            "No of layers in HMM:  3\n"
          ]
        }
      ],
      "source": [
        "n_layers= n_states+1\n",
        "print(\"No of layers in HMM: \",n_layers)"
      ]
    },
    {
      "cell_type": "code",
      "execution_count": null,
      "id": "580309e3",
      "metadata": {
        "colab": {
          "base_uri": "https://localhost:8080/"
        },
        "id": "580309e3",
        "outputId": "c4fcba35-65be-4878-8895-0915699b54ad"
      },
      "outputs": [
        {
          "output_type": "stream",
          "name": "stdout",
          "text": [
            "State probability:  [1. 0.]\n",
            "\n",
            "Transition probability:\n",
            " [[0.7 0.3]\n",
            " [0.5 0.5]]\n",
            "\n",
            "Emission probability:\n",
            " [[0.6 0.1 0.3]\n",
            " [0.1 0.7 0.2]]\n"
          ]
        }
      ],
      "source": [
        "# Define the initial state distribution\n",
        "state_probability = np.array([1.0, 0.0])      # pi values of state\n",
        "print(\"State probability: \", state_probability)\n",
        "\n",
        "# Define the state transition probabilities\n",
        "transition_probability = np.array([[0.7, 0.3],       #row sum always 1 in this matrix\n",
        "                                   [0.5, 0.5]])\n",
        "print(\"\\nTransition probability:\\n\", transition_probability)\n",
        "# Define the observation likelihoods\n",
        "emission_probability= np.array([[0.6,  0.1, 0.3],\n",
        "                                 [0.1, 0.7, 0.2]])\n",
        "print(\"\\nEmission probability:\\n\", emission_probability)"
      ]
    },
    {
      "cell_type": "code",
      "execution_count": null,
      "id": "709df333",
      "metadata": {
        "id": "709df333"
      },
      "outputs": [],
      "source": [
        "cola=0\n",
        "ice_tea=1\n",
        "lem=2\n",
        "op_seq=[2,1,0]    #to be derived= lem,ice_tea,cola\n",
        "new =[1,1]"
      ]
    },
    {
      "cell_type": "code",
      "execution_count": null,
      "id": "493fa384",
      "metadata": {
        "colab": {
          "base_uri": "https://localhost:8080/"
        },
        "id": "493fa384",
        "outputId": "b002992c-ff8b-4633-ec71-62a393a5ac69"
      },
      "outputs": [
        {
          "output_type": "stream",
          "name": "stdout",
          "text": [
            "0.21\n",
            "0.09\n",
            "0.0462\n",
            "0.0378\n",
            "0.021293999999999993\n",
            "0.010206\n",
            "TOTAL PROBABILITY:  0.03149999999999999\n"
          ]
        }
      ],
      "source": [
        "def forward_prop(state_probability,transition_probability,emission_probability):\n",
        "    for i in range(n_layers):\n",
        "        a_cp=0\n",
        "        a_ip=0\n",
        "        for j in range(2):\n",
        "            a_cp+= ((state_probability[j]) * (transition_probability[j][0]) * (emission_probability[j][op_seq[i]]) )\n",
        "            a_ip+= (state_probability[j]* transition_probability[j][1]* emission_probability[j][op_seq[i]])\n",
        "        state_probability[0]=a_cp\n",
        "        state_probability[1]=a_ip\n",
        "        print(a_cp)\n",
        "        print(a_ip)\n",
        "\n",
        "    tot_prob= a_cp+a_ip\n",
        "    print(\"TOTAL PROBABILITY: \", tot_prob)\n",
        "\n",
        "forward_prop(state_probability,transition_probability,emission_probability)\n"
      ]
    },
    {
      "cell_type": "code",
      "execution_count": null,
      "id": "36ceb446",
      "metadata": {
        "id": "36ceb446",
        "outputId": "51c0dda2-d1ab-4551-fc09-96ee0789949b"
      },
      "outputs": [
        {
          "name": "stdout",
          "output_type": "stream",
          "text": [
            "\n",
            "Transition probability:\n",
            " [[0.7 0.3]\n",
            " [0.5 0.5]]\n",
            "\n",
            "Emission probability:\n",
            " [[0.6 0.1 0.3]\n",
            " [0.1 0.7 0.2]]\n"
          ]
        }
      ],
      "source": [
        "# Define the state transition probabilities\n",
        "transition_probability = np.array([[0.7, 0.3],       #row sum always 1 in this matrix\n",
        "                                   [0.5, 0.5]])\n",
        "print(\"\\nTransition probability:\\n\", transition_probability)\n",
        "# Define the observation likelihoods\n",
        "emission_probability= np.array([[0.6,  0.1, 0.3],\n",
        "                                 [0.1, 0.7, 0.2]])\n",
        "print(\"\\nEmission probability:\\n\", emission_probability)"
      ]
    },
    {
      "cell_type": "code",
      "execution_count": null,
      "id": "42ede84a",
      "metadata": {
        "id": "42ede84a"
      },
      "outputs": [],
      "source": [
        "cola=0\n",
        "ice_tea=1\n",
        "lem=2\n",
        "op_seq=[2,1,0]    #to be derived= lem,ice_tea,cola\n",
        "new =[1,1]"
      ]
    },
    {
      "cell_type": "code",
      "execution_count": null,
      "id": "ccfcdbc3",
      "metadata": {
        "id": "ccfcdbc3",
        "outputId": "817ff9e5-302f-4cb5-eb9a-e5d05512e08a"
      },
      "outputs": [
        {
          "name": "stdout",
          "output_type": "stream",
          "text": [
            "0.6\n",
            "0.1\n",
            "0.045000000000000005\n",
            "0.245\n",
            "0.0315\n",
            "0.029\n",
            "TOTAL PROBABILITY:  0.0009667349999999998\n"
          ]
        }
      ],
      "source": [
        "def backward_prop(new,transition_probability,emission_probability):\n",
        "    k=2\n",
        "    for i in range(n_layers):\n",
        "        b_cp=0    #initialization\n",
        "        b_ip=0\n",
        "        for j in range(2):\n",
        "            b_cp+= ((new[j]) * (transition_probability[0][j]) * (emission_probability[0][op_seq[k]]))\n",
        "            #print(j, \" \", b_cp)\n",
        "            b_ip+= (new[j] * transition_probability[1][j] * emission_probability[1][op_seq[k]])\n",
        "            #print(j,\" \", b_ip)\n",
        "        k=k-1\n",
        "        new[0]=b_cp\n",
        "        new[1]=b_ip\n",
        "        print(b_cp)\n",
        "        print(b_ip)\n",
        "\n",
        "    tot_prob= b_cp*state_probability[0]+b_ip*state_probability[1]\n",
        "    print(\"TOTAL PROBABILITY: \",tot_prob)\n",
        "\n",
        "backward_prop(new,transition_probability,emission_probability)"
      ]
    }
  ],
  "metadata": {
    "kernelspec": {
      "display_name": "Python 3",
      "language": "python",
      "name": "python3"
    },
    "language_info": {
      "codemirror_mode": {
        "name": "ipython",
        "version": 3
      },
      "file_extension": ".py",
      "mimetype": "text/x-python",
      "name": "python",
      "nbconvert_exporter": "python",
      "pygments_lexer": "ipython3",
      "version": "3.8.8"
    },
    "colab": {
      "provenance": []
    }
  },
  "nbformat": 4,
  "nbformat_minor": 5
}