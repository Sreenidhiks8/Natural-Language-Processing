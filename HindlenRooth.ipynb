{
 "cells": [
  {
   "cell_type": "code",
   "execution_count": 1,
   "id": "c552be3f",
   "metadata": {},
   "outputs": [
    {
     "name": "stdout",
     "output_type": "stream",
     "text": [
      "λ value: -5.170637619407351\n",
      "Is it associated with a verb? False\n"
     ]
    },
    {
     "name": "stderr",
     "output_type": "stream",
     "text": [
      "[nltk_data] Downloading package stopwords to\n",
      "[nltk_data]     C:\\Users\\admin\\AppData\\Roaming\\nltk_data...\n",
      "[nltk_data]   Package stopwords is already up-to-date!\n",
      "[nltk_data] Downloading package punkt to\n",
      "[nltk_data]     C:\\Users\\admin\\AppData\\Roaming\\nltk_data...\n",
      "[nltk_data]   Package punkt is already up-to-date!\n"
     ]
    }
   ],
   "source": [
    "import math\n",
    "import nltk\n",
    "from nltk.corpus import stopwords\n",
    "from nltk.tokenize import word_tokenize\n",
    "from collections import Counter\n",
    "nltk.download('stopwords')\n",
    "nltk.download('punkt')\n",
    "\n",
    "def calculate_lambda(P_VAP_1_given_v, P_NAP_0_given_n, P_NAP_1_given_n):\n",
    "    inner_expression = P_VAP_1_given_v * P_NAP_0_given_n * P_NAP_1_given_n\n",
    "    lamda = math.log2(inner_expression)\n",
    "    return lamda\n",
    "\n",
    "def hindle_rooth_association(text):\n",
    "    words = word_tokenize(text.lower())\n",
    "    stop_words = set(stopwords.words('english'))\n",
    "    filtered_words = [word for word in words if word not in stop_words]\n",
    "    word_freq = Counter(filtered_words)\n",
    "    total_words = sum(word_freq.values())\n",
    "    num_verbs = sum(1 for word, pos in nltk.pos_tag(filtered_words) if pos.startswith('V'))\n",
    "    P_VAP_1_given_v = num_verbs / total_words\n",
    "\n",
    "    num_nouns = sum(1 for word, pos in nltk.pos_tag(filtered_words) if pos.startswith('N'))\n",
    "    P_NAP_0_given_n = num_nouns / total_words\n",
    "    P_NAP_1_given_n = (total_words - num_nouns) / total_words\n",
    "    return calculate_lambda(P_VAP_1_given_v, P_NAP_0_given_n, P_NAP_1_given_n)\n",
    "\n",
    "def is_verb_or_noun(lamda):\n",
    "    return lamda > 0.5\n",
    "example_text = \"Ice cream is one of the most commonly loved desserts on this planet. It has a creamy, sweet taste that many people love. Ice cream is delicious and famous, and it is made from dairy products such as milk and cream, eggs, sugar and sorbet powder. Ice cream can be made using fruits, vegetables, and milk instead of sugar.\"\n",
    "lamda = hindle_rooth_association(example_text)\n",
    "is_verb = is_verb_or_noun(lamda)\n",
    "\n",
    "print(\"λ value:\", lamda)\n",
    "print(\"Is it associated with a verb?\", is_verb)"
   ]
  },
  {
   "cell_type": "code",
   "execution_count": null,
   "id": "72cace14",
   "metadata": {},
   "outputs": [],
   "source": []
  }
 ],
 "metadata": {
  "kernelspec": {
   "display_name": "Python 3",
   "language": "python",
   "name": "python3"
  },
  "language_info": {
   "codemirror_mode": {
    "name": "ipython",
    "version": 3
   },
   "file_extension": ".py",
   "mimetype": "text/x-python",
   "name": "python",
   "nbconvert_exporter": "python",
   "pygments_lexer": "ipython3",
   "version": "3.8.8"
  }
 },
 "nbformat": 4,
 "nbformat_minor": 5
}
