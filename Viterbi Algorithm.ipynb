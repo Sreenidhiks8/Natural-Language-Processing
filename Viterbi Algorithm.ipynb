{
 "cells": [
  {
   "cell_type": "code",
   "execution_count": 5,
   "id": "7d520eeb",
   "metadata": {},
   "outputs": [],
   "source": [
    "# import the necessary libraries\n",
    "import numpy as np\n",
    "import matplotlib.pyplot as plt\n",
    "import seaborn as sns"
   ]
  },
  {
   "cell_type": "code",
   "execution_count": 8,
   "id": "8a583353",
   "metadata": {},
   "outputs": [],
   "source": [
    "state_probability = [1, 0]\n",
    "transition_probability = np.array([[0.7, 0.3],\n",
    "                                   [0.5, 0.5]])\n",
    "emission_probability= np.array([[0.6, 0.1,0.3],\n",
    "                                 [0.1, 0.7,0.2]])\n",
    "op_seq=[2,1,0]    #to be derived= lem,ice_tea,cola"
   ]
  },
  {
   "cell_type": "code",
   "execution_count": 9,
   "id": "761155c2",
   "metadata": {},
   "outputs": [
    {
     "name": "stdout",
     "output_type": "stream",
     "text": [
      "[0.21, 0.0]\n",
      "X^:  0\n",
      "[0.09, 0.0]\n",
      "X^:  0\n",
      "[0.0147, 0.0315]\n",
      "X^:  1\n",
      "[0.0063, 0.0315]\n",
      "X^:  1\n",
      "[0.01323, 0.001575]\n",
      "X^:  0\n",
      "[0.00567, 0.001575]\n",
      "X^:  0\n",
      "Probability:  0.01323\n"
     ]
    }
   ],
   "source": [
    "def viterbi(state_probability,transition_probability,emission_probability):\n",
    "    for k in range(3):\n",
    "        del_ip=[]\n",
    "        del_cp=[]\n",
    "        for j in range(2):\n",
    "            del_cp.append((state_probability[j]*transition_probability[j][0]*emission_probability[j][op_seq[k]]))\n",
    "            del_ip.append((state_probability[j]*transition_probability[j][1]*emission_probability[j][op_seq[k]]))\n",
    "\n",
    "        state_probability[0]=max(del_cp)\n",
    "        state_probability[1]=max(del_ip)\n",
    "        print(del_cp)\n",
    "        print(\"X^: \",np.argmax(del_cp))\n",
    "        print(del_ip)\n",
    "        print(\"X^: \",np.argmax(del_ip))\n",
    "    print(\"Probability: \",max(del_cp+del_ip))\n",
    "viterbi(state_probability,transition_probability,emission_probability)"
   ]
  },
  {
   "cell_type": "code",
   "execution_count": null,
   "id": "1f3c9e62",
   "metadata": {},
   "outputs": [],
   "source": []
  }
 ],
 "metadata": {
  "kernelspec": {
   "display_name": "Python 3 (ipykernel)",
   "language": "python",
   "name": "python3"
  },
  "language_info": {
   "codemirror_mode": {
    "name": "ipython",
    "version": 3
   },
   "file_extension": ".py",
   "mimetype": "text/x-python",
   "name": "python",
   "nbconvert_exporter": "python",
   "pygments_lexer": "ipython3",
   "version": "3.9.13"
  }
 },
 "nbformat": 4,
 "nbformat_minor": 5
}
