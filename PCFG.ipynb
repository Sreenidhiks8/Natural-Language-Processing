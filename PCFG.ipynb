{
 "cells": [
  {
   "cell_type": "code",
   "execution_count": 1,
   "id": "b9e426bc",
   "metadata": {},
   "outputs": [
    {
     "name": "stdout",
     "output_type": "stream",
     "text": [
      "Enter Number of Rules:5\n",
      "Key:S\n",
      "Value:A S\n",
      "Probability:0.3\n",
      "Key:S\n",
      "Value:A X\n",
      "Probability:0.6\n",
      "Key:S\n",
      "Value:a\n",
      "Probability:0.1\n",
      "Key:X\n",
      "Value:S A \n",
      "Probability:1.0\n",
      "Key:A\n",
      "Value:a\n",
      "Probability:1.0\n",
      "[[{}, {'S': 0.1, 'A': 1.0}, {}, {}, {}], [{}, {}, {'S': 0.1, 'A': 1.0}, {}, {}], [{}, {}, {}, {'S': 0.1, 'A': 1.0}, {}], [{}, {}, {}, {}, {'S': 0.1, 'A': 1.0}]]\n",
      "[{}, {'S': 0.1, 'A': 1.0}, {'S': 0.03}, {'S': 0.009}, {'S': 0.0027}]\n",
      "[{}, {}, {'S': 0.1, 'A': 1.0}, {'S': 0.03}, {'S': 0.009}]\n",
      "[{}, {}, {}, {'S': 0.1, 'A': 1.0}, {'S': 0.03}]\n",
      "[{}, {}, {}, {}, {'S': 0.1, 'A': 1.0}]\n",
      "probability of query: 0.0027\n"
     ]
    }
   ],
   "source": [
    "from collections import defaultdict\n",
    "\n",
    "rules=[]\n",
    "n=int(input('Enter Number of Rules:'))\n",
    "for i in range(n):\n",
    "    r=[]\n",
    "    r.append(input('Key:'))\n",
    "    r.append(input('Value:'))\n",
    "    r.append(float(input('Probability:')))\n",
    "    rules.append(r)\n",
    "\n",
    "\n",
    "query=['a','a','a','a']\n",
    "n=len(query)\n",
    "table = [[{} for _ in range(n+1)] for _ in range(n)]\n",
    "\n",
    "\n",
    "for i in range(n):\n",
    "\n",
    "    for l in rules:\n",
    "        if l[1]==query[i]:\n",
    "            if l[0] not in table[i][i+1]:\n",
    "                table[i][i+1][l[0]]=l[2]\n",
    "            else:\n",
    "                table[i][i+1][l[0]]+=l[2]\n",
    "\n",
    "\n",
    "print(table)\n",
    "\n",
    "\n",
    "\n",
    "\n",
    "\n",
    "t=2\n",
    "for i in range(n-1):\n",
    "    j=t\n",
    "    for k in range(n-j+1):\n",
    "        for l in range(k+1,j):\n",
    "            if table[k][l]!={} and table[l][j]!={}:\n",
    "                for k1 in table[k][l]:\n",
    "                    for k2 in table[l][j]:\n",
    "                        for r in rules:\n",
    "                            if k1+' '+k2 in r:\n",
    "                                if r[0] not in table[k][j]:\n",
    "                                    table[k][j][r[0]]=round(r[2]*table[k][l][k1]*table[l][j][k2],5)\n",
    "                                else:\n",
    "                                    table[k][j][r[0]]+=r[2]*table[k][l][k1]*table[l][j][k2]\n",
    "                                    table[k][j][r[0]]=round(table[k][j][r[0]],5)\n",
    "        j+=1\n",
    "    t+=1\n",
    "for i in range(n):\n",
    "    print(table[i])\n",
    "\n",
    "print('probability of query:',table[0][n]['S'])"
   ]
  },
  {
   "cell_type": "code",
   "execution_count": null,
   "id": "fef22777",
   "metadata": {},
   "outputs": [],
   "source": []
  }
 ],
 "metadata": {
  "kernelspec": {
   "display_name": "Python 3 (ipykernel)",
   "language": "python",
   "name": "python3"
  },
  "language_info": {
   "codemirror_mode": {
    "name": "ipython",
    "version": 3
   },
   "file_extension": ".py",
   "mimetype": "text/x-python",
   "name": "python",
   "nbconvert_exporter": "python",
   "pygments_lexer": "ipython3",
   "version": "3.9.13"
  }
 },
 "nbformat": 4,
 "nbformat_minor": 5
}
