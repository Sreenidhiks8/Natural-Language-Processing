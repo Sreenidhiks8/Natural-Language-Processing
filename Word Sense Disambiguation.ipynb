{
 "cells": [
  {
   "cell_type": "code",
   "execution_count": 24,
   "id": "f92b04b7",
   "metadata": {},
   "outputs": [
    {
     "name": "stdout",
     "output_type": "stream",
     "text": [
      "enter no of classes: 5\n",
      "enter name of the class: f\n",
      "enter no of elements: 6\n",
      "enter a word: put\n",
      "enter a word: coat\n",
      "enter a word: black\n",
      "enter a word: chair\n",
      "enter a word: sat\n",
      "enter a word: down\n",
      "enter name of the class: f\n",
      "enter no of elements: 4\n",
      "enter a word: chair\n",
      "enter a word: made\n",
      "enter a word: timber\n",
      "enter a word: company\n",
      "enter name of the class: p\n",
      "enter no of elements: 3\n",
      "enter a word: chair\n",
      "enter a word: institute\n",
      "enter a word: best\n",
      "enter name of the class: p\n",
      "enter no of elements: 3\n",
      "enter a word: award\n",
      "enter a word: IT\n",
      "enter a word: chair\n",
      "enter name of the class: f\n",
      "enter no of elements: 6\n",
      "enter a word: type\n",
      "enter a word: diff\n",
      "enter a word: chair\n",
      "enter a word: award\n",
      "enter a word: fun\n",
      "enter a word: use\n",
      "Class Furniture:  [['put', 'coat', 'black', 'chair', 'sat', 'down'], ['chair', 'made', 'timber', 'company'], ['type', 'diff', 'chair', 'award', 'fun', 'use']]\n",
      "Class Position:  [['chair', 'institute', 'best'], ['award', 'IT', 'chair']]\n"
     ]
    }
   ],
   "source": [
    "import nltk\n",
    "L1=[]   #class f\n",
    "L2=[]   #class p\n",
    "n= int(input(\"enter no of classes: \"))   #tot no of classes\n",
    "\n",
    "#TAKING INPUT FOR CLASSES\n",
    "for i in range (n):\n",
    "    l=[]\n",
    "    name= input(\"enter name of the class: \")    #name of the class\n",
    "    if(name.lower()==\"f\"): \n",
    "        num= int(input(\"enter no of elements: \"))\n",
    "        for i in range (num):\n",
    "            str1= input(\"enter a word: \")\n",
    "            l.append(str1)     \n",
    "        L1.append(l)\n",
    "        \n",
    "    if(name.lower()==\"p\"):        \n",
    "        num= int(input(\"enter no of elements: \"))\n",
    "        for i in range (num):\n",
    "            str1= input(\"enter a word: \")\n",
    "            l.append(str1)     \n",
    "        L2.append(l)\n",
    "\n",
    "print(\"Class Furniture: \",L1)\n",
    "print(\"Class Position: \",L2)\n",
    "\n",
    "\n",
    "    \n"
   ]
  },
  {
   "cell_type": "code",
   "execution_count": 29,
   "id": "053a71ee",
   "metadata": {},
   "outputs": [
    {
     "name": "stdout",
     "output_type": "stream",
     "text": [
      "Prior prob of class f:  0.6\n",
      "Prior prob of class p:  0.4\n",
      "Unique Words:  ['put', 'chair', 'black', 'timber', 'award', 'type', 'down', 'fun', 'sat', 'coat', 'company', 'made', 'diff', 'use', 'institute', 'best', 'IT']\n",
      "\n",
      "no of unique words in vocabulary:  17\n"
     ]
    }
   ],
   "source": [
    "#calculating prior probabilities\n",
    "p_f= len(L1)/n\n",
    "p_p= len(L2)/n\n",
    "\n",
    "print(\"Prior prob of class f: \",p_f)\n",
    "print(\"Prior prob of class p: \",p_p)\n",
    "\n",
    "#to find no of unique elements\n",
    "cnt=0\n",
    "L=[]\n",
    "L_=[]\n",
    "\"\"\"\n",
    "for i in L1:\n",
    "    for j in i:\n",
    "        if(j not in L):\n",
    "            cnt=cnt+1\n",
    "print(\"No of unique elements in class Furniture are: \",cnt)\n",
    "\n",
    "\"\"\"\n",
    "result1 = {x for l in L1 for x in l}\n",
    "#print(list(result1))\n",
    "L3=list(result1)\n",
    "\n",
    "result2 = {x for l in L2 for x in l}\n",
    "#print(list(result2))\n",
    "L4=list(result2)\n",
    "\n",
    "for i in L4:\n",
    "    if(i not in L3):\n",
    "        L3.append(i)\n",
    "print(\"Unique Words: \",L3)\n",
    "print()\n",
    "V=len(L3)   #no of unique words in vocabulary\n",
    "print(\"no of unique words in vocabulary: \",V)\n",
    "        \n"
   ]
  },
  {
   "cell_type": "code",
   "execution_count": 44,
   "id": "7767aedf",
   "metadata": {},
   "outputs": [
    {
     "name": "stdout",
     "output_type": "stream",
     "text": [
      "[1, 3, 0, 1]\n",
      "CLASS F\n",
      "\n",
      "prob of  award |F:  0.3333333333333333\n",
      "\n",
      "prob of  chair |F:  1.0\n",
      "\n",
      "prob of  IT |F:  0.0\n",
      "\n",
      "prob of  company |F:  0.3333333333333333\n",
      "\n"
     ]
    }
   ],
   "source": [
    "test_set=[\"award\",\"chair\",\"IT\",\"company\"]   \n",
    "count_lis=[]\n",
    "cnt=0   #for award\n",
    "\n",
    "#TO FIND PROBABILITIES OF WORDS IN TRAINING SET\n",
    "for i in test_set:\n",
    "    cnt=0\n",
    "    for x in L1:\n",
    "        if i in x:\n",
    "            cnt+=1\n",
    "    count_lis1.append(cnt)\n",
    "print(count_lis)    \n",
    "\n",
    "#TO FIND FOR CLASS f\n",
    "print(\"CLASS F\\n\")\n",
    "k=0\n",
    "for i in test_set:\n",
    "    prob=count_lis[k]/len(L1)\n",
    "    print(\"prob of \",i,\"|F: \", prob)\n",
    "    k+=1\n",
    "    print()\n",
    "    \n",
    "\n",
    "\n",
    "    \n",
    "    "
   ]
  },
  {
   "cell_type": "code",
   "execution_count": 48,
   "id": "4fa2b40b",
   "metadata": {},
   "outputs": [
    {
     "name": "stdout",
     "output_type": "stream",
     "text": [
      "[1, 2, 1, 0]\n",
      "CLASS P\n",
      "\n",
      "prob of  award |P:  0.5\n",
      "\n",
      "prob of  chair |P:  1.0\n",
      "\n",
      "prob of  IT |P:  0.5\n",
      "\n",
      "prob of  company |P:  0.0\n",
      "\n"
     ]
    }
   ],
   "source": [
    "count_lis1=[]\n",
    "\n",
    "#TO FIND PROBABILITIES OF WORDS IN TRAINING SET\n",
    "for i in test_set:\n",
    "    cnt=0\n",
    "    for x in L2:\n",
    "        if i in x:\n",
    "            cnt+=1\n",
    "    count_lis1.append(cnt)\n",
    "print(count_lis1)   \n",
    "\n",
    "#TO FIND FOR CLASS p\n",
    "print(\"CLASS P\\n\")\n",
    "k=0\n",
    "for i in test_set:\n",
    "    prob=count_lis1[k]/len(L2)\n",
    "    print(\"prob of \",i,\"|P: \", prob)\n",
    "    k+=1\n",
    "    print()\n",
    "    "
   ]
  },
  {
   "cell_type": "code",
   "execution_count": 78,
   "id": "ef899cf7",
   "metadata": {},
   "outputs": [
    {
     "name": "stdout",
     "output_type": "stream",
     "text": [
      "CLASS F\n",
      "\n",
      "prob of  award |F:  0.1\n",
      "\n",
      "prob of  chair |F:  0.2\n",
      "\n",
      "prob of  IT |F:  0.05\n",
      "\n",
      "prob of  company |F:  0.1\n",
      "\n",
      "[0.1, 0.2, 0.05, 0.1]\n"
     ]
    }
   ],
   "source": [
    "#USING ADD 1 SMOOTHING\n",
    "\n",
    "#TO FIND FOR CLASS f\n",
    "print(\"CLASS F\\n\")\n",
    "loglist1=[]\n",
    "k=0\n",
    "for i in test_set:\n",
    "    prob=(count_lis[k]+1)/(len(L1)+V)\n",
    "    print(\"prob of \",i,\"|F: \", prob)\n",
    "    loglist1.append(prob)\n",
    "    k+=1\n",
    "    print()\n",
    "print(loglist1)\n",
    "    \n"
   ]
  },
  {
   "cell_type": "code",
   "execution_count": 80,
   "id": "fb6755da",
   "metadata": {},
   "outputs": [
    {
     "name": "stdout",
     "output_type": "stream",
     "text": [
      "CLASS P\n",
      "\n",
      "prob of  award |P:  0.10526315789473684\n",
      "\n",
      "prob of  chair |P:  0.15789473684210525\n",
      "\n",
      "prob of  IT |P:  0.10526315789473684\n",
      "\n",
      "prob of  company |P:  0.05263157894736842\n",
      "\n",
      "[0.10526315789473684, 0.15789473684210525, 0.10526315789473684, 0.05263157894736842]\n"
     ]
    }
   ],
   "source": [
    "#TO FIND FOR CLASS p\n",
    "print(\"CLASS P\\n\")\n",
    "k=0\n",
    "loglist2=[]\n",
    "for i in test_set:\n",
    "    prob=(count_lis1[k]+1)/(len(L2)+V)\n",
    "    print(\"prob of \",i,\"|P: \", prob)\n",
    "    loglist2.append(prob)\n",
    "    \n",
    "    k+=1\n",
    "    print()\n",
    "print(loglist2)"
   ]
  },
  {
   "cell_type": "code",
   "execution_count": 79,
   "id": "cdbd09f7",
   "metadata": {},
   "outputs": [
    {
     "name": "stdout",
     "output_type": "stream",
     "text": [
      "-4.221848749616355\n"
     ]
    }
   ],
   "source": [
    "#score calc for class f\n",
    "import math\n",
    "calc1=0\n",
    "for i in loglist1:\n",
    "    calc1=calc1+ math.log(i,10)\n",
    "    \n",
    "score1= math.log(p_f,10)+calc1\n",
    "\n",
    "print(\"Score of Furniture class: \",score1)\n"
   ]
  },
  {
   "cell_type": "code",
   "execution_count": 81,
   "id": "6ec01f9c",
   "metadata": {},
   "outputs": [
    {
     "name": "stdout",
     "output_type": "stream",
     "text": [
      "-4.433773166435728\n"
     ]
    }
   ],
   "source": [
    "#score calc for class f\n",
    "import math\n",
    "calc2=0\n",
    "for i in loglist2:\n",
    "    calc2= calc2+ math.log(i,10)\n",
    "score2= math.log(p_p,10)+calc2\n",
    "\n",
    "print(\"Score of Position Class: \",score2)"
   ]
  },
  {
   "cell_type": "code",
   "execution_count": 83,
   "id": "fb4e27e7",
   "metadata": {},
   "outputs": [
    {
     "name": "stdout",
     "output_type": "stream",
     "text": [
      "Sense of chair is Class Furniture\n"
     ]
    }
   ],
   "source": [
    "if(score1>score2):\n",
    "    print(\"Sense of chair is Class Furniture\")\n",
    "else:\n",
    "    print(\"Sense of chair is Class Position\")\n",
    "    "
   ]
  },
  {
   "cell_type": "code",
   "execution_count": null,
   "id": "b940a52d",
   "metadata": {},
   "outputs": [],
   "source": []
  }
 ],
 "metadata": {
  "kernelspec": {
   "display_name": "Python 3",
   "language": "python",
   "name": "python3"
  },
  "language_info": {
   "codemirror_mode": {
    "name": "ipython",
    "version": 3
   },
   "file_extension": ".py",
   "mimetype": "text/x-python",
   "name": "python",
   "nbconvert_exporter": "python",
   "pygments_lexer": "ipython3",
   "version": "3.8.8"
  }
 },
 "nbformat": 4,
 "nbformat_minor": 5
}
